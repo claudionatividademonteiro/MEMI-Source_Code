{
 "cells": [
  {
   "cell_type": "code",
   "execution_count": 1,
   "metadata": {
    "id": "qpPfq42SCF89"
   },
   "outputs": [],
   "source": [
    "#Importing Modules\n",
    "import pandas as pd\n",
    "import numpy as np\n",
    "import os\n",
    "import plotly.express as px  \n",
    "import plotly.graph_objects as go \n",
    "import matplotlib.pyplot as plt\n",
    "from sklearn.preprocessing import StandardScaler \n",
    "from sklearn.preprocessing import MinMaxScaler\n",
    "from sklearn.cluster import KMeans\n",
    "import json\n",
    "import re\n",
    "import requests\n",
    "import subprocess\n",
    "import time \n",
    "import sys"
   ]
  },
  {
   "cell_type": "code",
   "execution_count": 2,
   "metadata": {
    "id": "F23V3cyiCcdk"
   },
   "outputs": [
    {
     "data": {
      "text/plain": [
       "['analise_dados_exploratory.asv',\n",
       " 'analise_dados_exploratory.m',\n",
       " 'analise_dados_spectral.asv',\n",
       " 'analise_dados_spectral.m',\n",
       " 'analise_dados_statistical.asv',\n",
       " 'analise_dados_statistical.m',\n",
       " 'analise_dados_statistical_original.m',\n",
       " 'ClassificationLearnerSession_5.mat',\n",
       " 'Clusters.png',\n",
       " 'Densidade_Espectral.docx',\n",
       " 'df15_df27.mldatx',\n",
       " 'df1_df12.mldatx',\n",
       " 'df9_df22.mldatx',\n",
       " 'df_sec_1_df_sec_12.mldatx',\n",
       " 'df_table.csv',\n",
       " 'features.csv',\n",
       " 'features_test.csv',\n",
       " 'projeto_aplicado.ipynb',\n",
       " 'projeto_dissertacao.ipynb',\n",
       " 'projeto_dissertacao_teste.ipynb',\n",
       " 'projeto_igus.ipynb',\n",
       " 'QC74.json',\n",
       " 'QC74_last100.json',\n",
       " 'QC74_samples',\n",
       " 'QC75.json',\n",
       " 'QC75_ClassificationLearnerSession.mat',\n",
       " 'QC75_ClassificationLearnerSession_2.mat',\n",
       " 'QC75_ClassificationLearnerSession_3.mat',\n",
       " 'QC75_ClassificationLearnerSession_4.mat',\n",
       " 'QC75_ClassificationLearnerSession_Spectral.mat',\n",
       " 'QC75_datasets',\n",
       " 'QC75_datasets_invalid',\n",
       " 'QC75_df1_df15_final.mldatx',\n",
       " 'QC75_last100.json',\n",
       " 'QC75_samples',\n",
       " 'QC75_samples_extended',\n",
       " 'telemetry_worker.py']"
      ]
     },
     "execution_count": 2,
     "metadata": {},
     "output_type": "execute_result"
    }
   ],
   "source": [
    "#Loading Files\n",
    "diretorio = \"C:/Mestrado_UA/Dissertacao/Dados_analises/\"\n",
    "list = []\n",
    "list_path = os.listdir(diretorio)\n",
    "list_path[:]"
   ]
  },
  {
   "cell_type": "markdown",
   "metadata": {},
   "source": [
    "## LOAD AND EXPLORE TELEMETRIES \n"
   ]
  },
  {
   "cell_type": "code",
   "execution_count": 3,
   "metadata": {
    "colab": {
     "base_uri": "https://localhost:8080/",
     "height": 203
    },
    "id": "gc3mJK7bCyNG",
    "outputId": "da690318-bcb4-4118-ce41-db0ef768e6d4"
   },
   "outputs": [],
   "source": [
    "arquivo = 'features.csv'\n",
    "local_arquivo = os.path.join(diretorio, arquivo)\n",
    "df = pd.read_csv(local_arquivo, sep=',', encoding='latin-1')"
   ]
  },
  {
   "cell_type": "code",
   "execution_count": 4,
   "metadata": {},
   "outputs": [
    {
     "data": {
      "text/html": [
       "<div>\n",
       "<style scoped>\n",
       "    .dataframe tbody tr th:only-of-type {\n",
       "        vertical-align: middle;\n",
       "    }\n",
       "\n",
       "    .dataframe tbody tr th {\n",
       "        vertical-align: top;\n",
       "    }\n",
       "\n",
       "    .dataframe thead th {\n",
       "        text-align: right;\n",
       "    }\n",
       "</style>\n",
       "<table border=\"1\" class=\"dataframe\">\n",
       "  <thead>\n",
       "    <tr style=\"text-align: right;\">\n",
       "      <th></th>\n",
       "      <th>rms_df</th>\n",
       "      <th>mean_df</th>\n",
       "      <th>std_df</th>\n",
       "      <th>sk_df</th>\n",
       "      <th>k_df</th>\n",
       "      <th>perc_25</th>\n",
       "      <th>perc_50</th>\n",
       "      <th>perc_75</th>\n",
       "      <th>perc_90</th>\n",
       "    </tr>\n",
       "  </thead>\n",
       "  <tbody>\n",
       "    <tr>\n",
       "      <th>0</th>\n",
       "      <td>0.417058</td>\n",
       "      <td>0.517966</td>\n",
       "      <td>0.418374</td>\n",
       "      <td>-0.322653</td>\n",
       "      <td>-0.589962</td>\n",
       "      <td>-0.528029</td>\n",
       "      <td>-0.478654</td>\n",
       "      <td>0.797535</td>\n",
       "      <td>0.551259</td>\n",
       "    </tr>\n",
       "    <tr>\n",
       "      <th>1</th>\n",
       "      <td>0.439250</td>\n",
       "      <td>0.334431</td>\n",
       "      <td>0.440916</td>\n",
       "      <td>-0.145237</td>\n",
       "      <td>-0.449691</td>\n",
       "      <td>-0.221357</td>\n",
       "      <td>-0.066563</td>\n",
       "      <td>0.089896</td>\n",
       "      <td>0.621977</td>\n",
       "    </tr>\n",
       "    <tr>\n",
       "      <th>2</th>\n",
       "      <td>-0.901749</td>\n",
       "      <td>-0.702113</td>\n",
       "      <td>-0.899180</td>\n",
       "      <td>1.859262</td>\n",
       "      <td>-0.276090</td>\n",
       "      <td>0.110393</td>\n",
       "      <td>-0.190993</td>\n",
       "      <td>-0.525195</td>\n",
       "      <td>-0.580849</td>\n",
       "    </tr>\n",
       "    <tr>\n",
       "      <th>3</th>\n",
       "      <td>0.322015</td>\n",
       "      <td>0.484699</td>\n",
       "      <td>0.323531</td>\n",
       "      <td>0.516340</td>\n",
       "      <td>-0.611644</td>\n",
       "      <td>-0.474656</td>\n",
       "      <td>-0.309578</td>\n",
       "      <td>0.412013</td>\n",
       "      <td>0.645476</td>\n",
       "    </tr>\n",
       "    <tr>\n",
       "      <th>4</th>\n",
       "      <td>-0.933977</td>\n",
       "      <td>0.299947</td>\n",
       "      <td>-0.930474</td>\n",
       "      <td>1.909491</td>\n",
       "      <td>0.345687</td>\n",
       "      <td>0.704466</td>\n",
       "      <td>0.146809</td>\n",
       "      <td>-0.867310</td>\n",
       "      <td>-0.802742</td>\n",
       "    </tr>\n",
       "  </tbody>\n",
       "</table>\n",
       "</div>"
      ],
      "text/plain": [
       "     rms_df   mean_df    std_df     sk_df      k_df   perc_25   perc_50  \\\n",
       "0  0.417058  0.517966  0.418374 -0.322653 -0.589962 -0.528029 -0.478654   \n",
       "1  0.439250  0.334431  0.440916 -0.145237 -0.449691 -0.221357 -0.066563   \n",
       "2 -0.901749 -0.702113 -0.899180  1.859262 -0.276090  0.110393 -0.190993   \n",
       "3  0.322015  0.484699  0.323531  0.516340 -0.611644 -0.474656 -0.309578   \n",
       "4 -0.933977  0.299947 -0.930474  1.909491  0.345687  0.704466  0.146809   \n",
       "\n",
       "    perc_75   perc_90  \n",
       "0  0.797535  0.551259  \n",
       "1  0.089896  0.621977  \n",
       "2 -0.525195 -0.580849  \n",
       "3  0.412013  0.645476  \n",
       "4 -0.867310 -0.802742  "
      ]
     },
     "execution_count": 4,
     "metadata": {},
     "output_type": "execute_result"
    }
   ],
   "source": [
    "df.head(5)"
   ]
  },
  {
   "cell_type": "code",
   "execution_count": 5,
   "metadata": {},
   "outputs": [
    {
     "data": {
      "text/plain": [
       "rms_df     0\n",
       "mean_df    0\n",
       "std_df     0\n",
       "sk_df      0\n",
       "k_df       0\n",
       "perc_25    0\n",
       "perc_50    0\n",
       "perc_75    0\n",
       "perc_90    0\n",
       "dtype: int64"
      ]
     },
     "execution_count": 5,
     "metadata": {},
     "output_type": "execute_result"
    }
   ],
   "source": [
    "df.isna().sum()"
   ]
  },
  {
   "cell_type": "code",
   "execution_count": 6,
   "metadata": {},
   "outputs": [],
   "source": [
    "df = df.dropna()"
   ]
  },
  {
   "cell_type": "code",
   "execution_count": 7,
   "metadata": {},
   "outputs": [
    {
     "data": {
      "text/plain": [
       "(83, 9)"
      ]
     },
     "execution_count": 7,
     "metadata": {},
     "output_type": "execute_result"
    }
   ],
   "source": [
    "df.shape"
   ]
  },
  {
   "cell_type": "code",
   "execution_count": 8,
   "metadata": {},
   "outputs": [
    {
     "data": {
      "text/plain": [
       "rms_df     0\n",
       "mean_df    0\n",
       "std_df     0\n",
       "sk_df      0\n",
       "k_df       0\n",
       "perc_25    0\n",
       "perc_50    0\n",
       "perc_75    0\n",
       "perc_90    0\n",
       "dtype: int64"
      ]
     },
     "execution_count": 8,
     "metadata": {},
     "output_type": "execute_result"
    }
   ],
   "source": [
    "df.isna().sum()"
   ]
  },
  {
   "cell_type": "code",
   "execution_count": 9,
   "metadata": {},
   "outputs": [
    {
     "data": {
      "text/html": [
       "<div>\n",
       "<style scoped>\n",
       "    .dataframe tbody tr th:only-of-type {\n",
       "        vertical-align: middle;\n",
       "    }\n",
       "\n",
       "    .dataframe tbody tr th {\n",
       "        vertical-align: top;\n",
       "    }\n",
       "\n",
       "    .dataframe thead th {\n",
       "        text-align: right;\n",
       "    }\n",
       "</style>\n",
       "<table border=\"1\" class=\"dataframe\">\n",
       "  <thead>\n",
       "    <tr style=\"text-align: right;\">\n",
       "      <th></th>\n",
       "      <th>rms_df</th>\n",
       "      <th>mean_df</th>\n",
       "      <th>std_df</th>\n",
       "      <th>sk_df</th>\n",
       "      <th>k_df</th>\n",
       "      <th>perc_25</th>\n",
       "      <th>perc_50</th>\n",
       "      <th>perc_75</th>\n",
       "      <th>perc_90</th>\n",
       "    </tr>\n",
       "  </thead>\n",
       "  <tbody>\n",
       "    <tr>\n",
       "      <th>count</th>\n",
       "      <td>8.300000e+01</td>\n",
       "      <td>8.300000e+01</td>\n",
       "      <td>8.300000e+01</td>\n",
       "      <td>8.300000e+01</td>\n",
       "      <td>8.300000e+01</td>\n",
       "      <td>8.300000e+01</td>\n",
       "      <td>8.300000e+01</td>\n",
       "      <td>8.300000e+01</td>\n",
       "      <td>8.300000e+01</td>\n",
       "    </tr>\n",
       "    <tr>\n",
       "      <th>mean</th>\n",
       "      <td>1.559663e-15</td>\n",
       "      <td>1.585077e-16</td>\n",
       "      <td>-1.412525e-15</td>\n",
       "      <td>9.630850e-17</td>\n",
       "      <td>2.795622e-16</td>\n",
       "      <td>7.223138e-17</td>\n",
       "      <td>1.872665e-17</td>\n",
       "      <td>-4.012854e-16</td>\n",
       "      <td>2.220446e-16</td>\n",
       "    </tr>\n",
       "    <tr>\n",
       "      <th>std</th>\n",
       "      <td>1.000000e+00</td>\n",
       "      <td>1.000000e+00</td>\n",
       "      <td>1.000000e+00</td>\n",
       "      <td>1.000000e+00</td>\n",
       "      <td>1.000000e+00</td>\n",
       "      <td>1.000000e+00</td>\n",
       "      <td>1.000000e+00</td>\n",
       "      <td>1.000000e+00</td>\n",
       "      <td>1.000000e+00</td>\n",
       "    </tr>\n",
       "    <tr>\n",
       "      <th>min</th>\n",
       "      <td>-2.460446e+00</td>\n",
       "      <td>-3.949783e+00</td>\n",
       "      <td>-2.475089e+00</td>\n",
       "      <td>-1.370373e+00</td>\n",
       "      <td>-1.119617e+00</td>\n",
       "      <td>-2.268717e+00</td>\n",
       "      <td>-1.652984e+00</td>\n",
       "      <td>-1.829390e+00</td>\n",
       "      <td>-2.534772e+00</td>\n",
       "    </tr>\n",
       "    <tr>\n",
       "      <th>25%</th>\n",
       "      <td>-6.781672e-01</td>\n",
       "      <td>-5.466454e-01</td>\n",
       "      <td>-6.754521e-01</td>\n",
       "      <td>-6.949104e-01</td>\n",
       "      <td>-6.145230e-01</td>\n",
       "      <td>-7.232499e-01</td>\n",
       "      <td>-6.848982e-01</td>\n",
       "      <td>-7.193930e-01</td>\n",
       "      <td>-5.582841e-01</td>\n",
       "    </tr>\n",
       "    <tr>\n",
       "      <th>50%</th>\n",
       "      <td>1.040790e-01</td>\n",
       "      <td>5.317827e-02</td>\n",
       "      <td>1.043363e-01</td>\n",
       "      <td>-1.542609e-01</td>\n",
       "      <td>-2.276147e-01</td>\n",
       "      <td>-1.133153e-01</td>\n",
       "      <td>-1.988510e-01</td>\n",
       "      <td>-7.674566e-02</td>\n",
       "      <td>8.174287e-03</td>\n",
       "    </tr>\n",
       "    <tr>\n",
       "      <th>75%</th>\n",
       "      <td>6.884166e-01</td>\n",
       "      <td>4.751408e-01</td>\n",
       "      <td>6.897644e-01</td>\n",
       "      <td>4.423404e-01</td>\n",
       "      <td>3.466578e-01</td>\n",
       "      <td>6.323950e-01</td>\n",
       "      <td>1.731974e-01</td>\n",
       "      <td>7.417135e-01</td>\n",
       "      <td>7.257747e-01</td>\n",
       "    </tr>\n",
       "    <tr>\n",
       "      <th>max</th>\n",
       "      <td>2.482825e+00</td>\n",
       "      <td>3.622108e+00</td>\n",
       "      <td>2.479605e+00</td>\n",
       "      <td>3.543934e+00</td>\n",
       "      <td>4.781197e+00</td>\n",
       "      <td>2.429190e+00</td>\n",
       "      <td>2.267648e+00</td>\n",
       "      <td>2.643293e+00</td>\n",
       "      <td>2.074314e+00</td>\n",
       "    </tr>\n",
       "  </tbody>\n",
       "</table>\n",
       "</div>"
      ],
      "text/plain": [
       "             rms_df       mean_df        std_df         sk_df          k_df  \\\n",
       "count  8.300000e+01  8.300000e+01  8.300000e+01  8.300000e+01  8.300000e+01   \n",
       "mean   1.559663e-15  1.585077e-16 -1.412525e-15  9.630850e-17  2.795622e-16   \n",
       "std    1.000000e+00  1.000000e+00  1.000000e+00  1.000000e+00  1.000000e+00   \n",
       "min   -2.460446e+00 -3.949783e+00 -2.475089e+00 -1.370373e+00 -1.119617e+00   \n",
       "25%   -6.781672e-01 -5.466454e-01 -6.754521e-01 -6.949104e-01 -6.145230e-01   \n",
       "50%    1.040790e-01  5.317827e-02  1.043363e-01 -1.542609e-01 -2.276147e-01   \n",
       "75%    6.884166e-01  4.751408e-01  6.897644e-01  4.423404e-01  3.466578e-01   \n",
       "max    2.482825e+00  3.622108e+00  2.479605e+00  3.543934e+00  4.781197e+00   \n",
       "\n",
       "            perc_25       perc_50       perc_75       perc_90  \n",
       "count  8.300000e+01  8.300000e+01  8.300000e+01  8.300000e+01  \n",
       "mean   7.223138e-17  1.872665e-17 -4.012854e-16  2.220446e-16  \n",
       "std    1.000000e+00  1.000000e+00  1.000000e+00  1.000000e+00  \n",
       "min   -2.268717e+00 -1.652984e+00 -1.829390e+00 -2.534772e+00  \n",
       "25%   -7.232499e-01 -6.848982e-01 -7.193930e-01 -5.582841e-01  \n",
       "50%   -1.133153e-01 -1.988510e-01 -7.674566e-02  8.174287e-03  \n",
       "75%    6.323950e-01  1.731974e-01  7.417135e-01  7.257747e-01  \n",
       "max    2.429190e+00  2.267648e+00  2.643293e+00  2.074314e+00  "
      ]
     },
     "execution_count": 9,
     "metadata": {},
     "output_type": "execute_result"
    }
   ],
   "source": [
    "df.describe()"
   ]
  },
  {
   "cell_type": "code",
   "execution_count": 10,
   "metadata": {},
   "outputs": [
    {
     "data": {
      "image/png": "[encoded data removed]",
      "text/plain": [
       "<Figure size 640x480 with 1 Axes>"
      ]
     },
     "metadata": {},
     "output_type": "display_data"
    }
   ],
   "source": [
    "plt.style.use('ggplot')\n",
    "plt.boxplot(df)\n",
    "plt.show()"
   ]
  },
  {
   "cell_type": "code",
   "execution_count": 11,
   "metadata": {},
   "outputs": [],
   "source": [
    "wcss_max_min = [] \n",
    "for i in range(1,11):\n",
    "  kmeans_max_min = KMeans(n_clusters=i, random_state=0, init='k-means++', n_init='auto') \n",
    "  kmeans_max_min.fit(X = df[['mean_df', 'rms_df']]) \n",
    "  wcss_max_min.append(kmeans_max_min.inertia_) "
   ]
  },
  {
   "cell_type": "code",
   "execution_count": 12,
   "metadata": {},
   "outputs": [
    {
     "name": "stdout",
     "output_type": "stream",
     "text": [
      "Cluster: 0 - Valor do wcss: 164.00000000000006\n",
      "Cluster: 1 - Valor do wcss: 98.5002067863244\n",
      "Cluster: 2 - Valor do wcss: 74.13198659381443\n",
      "Cluster: 3 - Valor do wcss: 62.187109484943456\n",
      "Cluster: 4 - Valor do wcss: 50.57993848967172\n",
      "Cluster: 5 - Valor do wcss: 42.01445460255612\n",
      "Cluster: 6 - Valor do wcss: 31.772890233530788\n",
      "Cluster: 7 - Valor do wcss: 22.874436026094287\n",
      "Cluster: 8 - Valor do wcss: 21.396711032920308\n",
      "Cluster: 9 - Valor do wcss: 18.02805462001228\n"
     ]
    }
   ],
   "source": [
    "for i in range(len(wcss_max_min)):\n",
    "  print('Cluster:', i ,'- Valor do wcss:', wcss_max_min[i] )"
   ]
  },
  {
   "cell_type": "code",
   "execution_count": 13,
   "metadata": {},
   "outputs": [
    {
     "data": {
      "application/vnd.plotly.v1+json": {
       "config": {
        "plotlyServerURL": "https://plot.ly"
       },
       "data": [
        {
         "hovertemplate": "x=%{x}<br>y=%{y}<extra></extra>",
         "legendgroup": "",
         "line": {
          "color": "#636efa",
          "dash": "solid"
         },
         "marker": {
          "symbol": "circle"
         },
         "mode": "lines",
         "name": "",
         "orientation": "v",
         "showlegend": false,
         "type": "scatter",
         "x": {
          "bdata": "AQIDBAUGBwgJCg==",
          "dtype": "i1"
         },
         "xaxis": "x",
         "y": {
          "bdata": "AgAAAACAZEAJIFNjA6BYQGH85XdyiFJAQU0fNPMXT0B0aqdsO0pJQKug/qXZAUVAnGlkItzFP0DohBYK2982QOhasNqOZTVAV3Rrli4HMkA=",
          "dtype": "f8"
         },
         "yaxis": "y"
        }
       ],
       "layout": {
        "legend": {
         "tracegroupgap": 0
        },
        "margin": {
         "t": 60
        },
        "template": {
         "data": {
          "bar": [
           {
            "error_x": {
             "color": "#2a3f5f"
            },
            "error_y": {
             "color": "#2a3f5f"
            },
            "marker": {
             "line": {
              "color": "#E5ECF6",
              "width": 0.5
             },
             "pattern": {
              "fillmode": "overlay",
              "size": 10,
              "solidity": 0.2
             }
            },
            "type": "bar"
           }
          ],
          "barpolar": [
           {
            "marker": {
             "line": {
              "color": "#E5ECF6",
              "width": 0.5
             },
             "pattern": {
              "fillmode": "overlay",
              "size": 10,
              "solidity": 0.2
             }
            },
            "type": "barpolar"
           }
          ],
          "carpet": [
           {
            "aaxis": {
             "endlinecolor": "#2a3f5f",
             "gridcolor": "white",
             "linecolor": "white",
             "minorgridcolor": "white",
             "startlinecolor": "#2a3f5f"
            },
            "baxis": {
             "endlinecolor": "#2a3f5f",
             "gridcolor": "white",
             "linecolor": "white",
             "minorgridcolor": "white",
             "startlinecolor": "#2a3f5f"
            },
            "type": "carpet"
           }
          ],
          "choropleth": [
           {
            "colorbar": {
             "outlinewidth": 0,
             "ticks": ""
            },
            "type": "choropleth"
           }
          ],
          "contour": [
           {
            "colorbar": {
             "outlinewidth": 0,
             "ticks": ""
            },
            "colorscale": [
             [
              0,
              "#0d0887"
             ],
             [
              0.1111111111111111,
              "#46039f"
             ],
             [
              0.2222222222222222,
              "#7201a8"
             ],
             [
              0.3333333333333333,
              "#9c179e"
             ],
             [
              0.4444444444444444,
              "#bd3786"
             ],
             [
              0.5555555555555556,
              "#d8576b"
             ],
             [
              0.6666666666666666,
              "#ed7953"
             ],
             [
              0.7777777777777778,
              "#fb9f3a"
             ],
             [
              0.8888888888888888,
              "#fdca26"
             ],
             [
              1,
              "#f0f921"
             ]
            ],
            "type": "contour"
           }
          ],
          "contourcarpet": [
           {
            "colorbar": {
             "outlinewidth": 0,
             "ticks": ""
            },
            "type": "contourcarpet"
           }
          ],
          "heatmap": [
           {
            "colorbar": {
             "outlinewidth": 0,
             "ticks": ""
            },
            "colorscale": [
             [
              0,
              "#0d0887"
             ],
             [
              0.1111111111111111,
              "#46039f"
             ],
             [
              0.2222222222222222,
              "#7201a8"
             ],
             [
              0.3333333333333333,
              "#9c179e"
             ],
             [
              0.4444444444444444,
              "#bd3786"
             ],
             [
              0.5555555555555556,
              "#d8576b"
             ],
             [
              0.6666666666666666,
              "#ed7953"
             ],
             [
              0.7777777777777778,
              "#fb9f3a"
             ],
             [
              0.8888888888888888,
              "#fdca26"
             ],
             [
              1,
              "#f0f921"
             ]
            ],
            "type": "heatmap"
           }
          ],
          "histogram": [
           {
            "marker": {
             "pattern": {
              "fillmode": "overlay",
              "size": 10,
              "solidity": 0.2
             }
            },
            "type": "histogram"
           }
          ],
          "histogram2d": [
           {
            "colorbar": {
             "outlinewidth": 0,
             "ticks": ""
            },
            "colorscale": [
             [
              0,
              "#0d0887"
             ],
             [
              0.1111111111111111,
              "#46039f"
             ],
             [
              0.2222222222222222,
              "#7201a8"
             ],
             [
              0.3333333333333333,
              "#9c179e"
             ],
             [
              0.4444444444444444,
              "#bd3786"
             ],
             [
              0.5555555555555556,
              "#d8576b"
             ],
             [
              0.6666666666666666,
              "#ed7953"
             ],
             [
              0.7777777777777778,
              "#fb9f3a"
             ],
             [
              0.8888888888888888,
              "#fdca26"
             ],
             [
              1,
              "#f0f921"
             ]
            ],
            "type": "histogram2d"
           }
          ],
          "histogram2dcontour": [
           {
            "colorbar": {
             "outlinewidth": 0,
             "ticks": ""
            },
            "colorscale": [
             [
              0,
              "#0d0887"
             ],
             [
              0.1111111111111111,
              "#46039f"
             ],
             [
              0.2222222222222222,
              "#7201a8"
             ],
             [
              0.3333333333333333,
              "#9c179e"
             ],
             [
              0.4444444444444444,
              "#bd3786"
             ],
             [
              0.5555555555555556,
              "#d8576b"
             ],
             [
              0.6666666666666666,
              "#ed7953"
             ],
             [
              0.7777777777777778,
              "#fb9f3a"
             ],
             [
              0.8888888888888888,
              "#fdca26"
             ],
             [
              1,
              "#f0f921"
             ]
            ],
            "type": "histogram2dcontour"
           }
          ],
          "mesh3d": [
           {
            "colorbar": {
             "outlinewidth": 0,
             "ticks": ""
            },
            "type": "mesh3d"
           }
          ],
          "parcoords": [
           {
            "line": {
             "colorbar": {
              "outlinewidth": 0,
              "ticks": ""
             }
            },
            "type": "parcoords"
           }
          ],
          "pie": [
           {
            "automargin": true,
            "type": "pie"
           }
          ],
          "scatter": [
           {
            "fillpattern": {
             "fillmode": "overlay",
             "size": 10,
             "solidity": 0.2
            },
            "type": "scatter"
           }
          ],
          "scatter3d": [
           {
            "line": {
             "colorbar": {
              "outlinewidth": 0,
              "ticks": ""
             }
            },
            "marker": {
             "colorbar": {
              "outlinewidth": 0,
              "ticks": ""
             }
            },
            "type": "scatter3d"
           }
          ],
          "scattercarpet": [
           {
            "marker": {
             "colorbar": {
              "outlinewidth": 0,
              "ticks": ""
             }
            },
            "type": "scattercarpet"
           }
          ],
          "scattergeo": [
           {
            "marker": {
             "colorbar": {
              "outlinewidth": 0,
              "ticks": ""
             }
            },
            "type": "scattergeo"
           }
          ],
          "scattergl": [
           {
            "marker": {
             "colorbar": {
              "outlinewidth": 0,
              "ticks": ""
             }
            },
            "type": "scattergl"
           }
          ],
          "scattermap": [
           {
            "marker": {
             "colorbar": {
              "outlinewidth": 0,
              "ticks": ""
             }
            },
            "type": "scattermap"
           }
          ],
          "scattermapbox": [
           {
            "marker": {
             "colorbar": {
              "outlinewidth": 0,
              "ticks": ""
             }
            },
            "type": "scattermapbox"
           }
          ],
          "scatterpolar": [
           {
            "marker": {
             "colorbar": {
              "outlinewidth": 0,
              "ticks": ""
             }
            },
            "type": "scatterpolar"
           }
          ],
          "scatterpolargl": [
           {
            "marker": {
             "colorbar": {
              "outlinewidth": 0,
              "ticks": ""
             }
            },
            "type": "scatterpolargl"
           }
          ],
          "scatterternary": [
           {
            "marker": {
             "colorbar": {
              "outlinewidth": 0,
              "ticks": ""
             }
            },
            "type": "scatterternary"
           }
          ],
          "surface": [
           {
            "colorbar": {
             "outlinewidth": 0,
             "ticks": ""
            },
            "colorscale": [
             [
              0,
              "#0d0887"
             ],
             [
              0.1111111111111111,
              "#46039f"
             ],
             [
              0.2222222222222222,
              "#7201a8"
             ],
             [
              0.3333333333333333,
              "#9c179e"
             ],
             [
              0.4444444444444444,
              "#bd3786"
             ],
             [
              0.5555555555555556,
              "#d8576b"
             ],
             [
              0.6666666666666666,
              "#ed7953"
             ],
             [
              0.7777777777777778,
              "#fb9f3a"
             ],
             [
              0.8888888888888888,
              "#fdca26"
             ],
             [
              1,
              "#f0f921"
             ]
            ],
            "type": "surface"
           }
          ],
          "table": [
           {
            "cells": {
             "fill": {
              "color": "#EBF0F8"
             },
             "line": {
              "color": "white"
             }
            },
            "header": {
             "fill": {
              "color": "#C8D4E3"
             },
             "line": {
              "color": "white"
             }
            },
            "type": "table"
           }
          ]
         },
         "layout": {
          "annotationdefaults": {
           "arrowcolor": "#2a3f5f",
           "arrowhead": 0,
           "arrowwidth": 1
          },
          "autotypenumbers": "strict",
          "coloraxis": {
           "colorbar": {
            "outlinewidth": 0,
            "ticks": ""
           }
          },
          "colorscale": {
           "diverging": [
            [
             0,
             "#8e0152"
            ],
            [
             0.1,
             "#c51b7d"
            ],
            [
             0.2,
             "#de77ae"
            ],
            [
             0.3,
             "#f1b6da"
            ],
            [
             0.4,
             "#fde0ef"
            ],
            [
             0.5,
             "#f7f7f7"
            ],
            [
             0.6,
             "#e6f5d0"
            ],
            [
             0.7,
             "#b8e186"
            ],
            [
             0.8,
             "#7fbc41"
            ],
            [
             0.9,
             "#4d9221"
            ],
            [
             1,
             "#276419"
            ]
           ],
           "sequential": [
            [
             0,
             "#0d0887"
            ],
            [
             0.1111111111111111,
             "#46039f"
            ],
            [
             0.2222222222222222,
             "#7201a8"
            ],
            [
             0.3333333333333333,
             "#9c179e"
            ],
            [
             0.4444444444444444,
             "#bd3786"
            ],
            [
             0.5555555555555556,
             "#d8576b"
            ],
            [
             0.6666666666666666,
             "#ed7953"
            ],
            [
             0.7777777777777778,
             "#fb9f3a"
            ],
            [
             0.8888888888888888,
             "#fdca26"
            ],
            [
             1,
             "#f0f921"
            ]
           ],
           "sequentialminus": [
            [
             0,
             "#0d0887"
            ],
            [
             0.1111111111111111,
             "#46039f"
            ],
            [
             0.2222222222222222,
             "#7201a8"
            ],
            [
             0.3333333333333333,
             "#9c179e"
            ],
            [
             0.4444444444444444,
             "#bd3786"
            ],
            [
             0.5555555555555556,
             "#d8576b"
            ],
            [
             0.6666666666666666,
             "#ed7953"
            ],
            [
             0.7777777777777778,
             "#fb9f3a"
            ],
            [
             0.8888888888888888,
             "#fdca26"
            ],
            [
             1,
             "#f0f921"
            ]
           ]
          },
          "colorway": [
           "#636efa",
           "#EF553B",
           "#00cc96",
           "#ab63fa",
           "#FFA15A",
           "#19d3f3",
           "#FF6692",
           "#B6E880",
           "#FF97FF",
           "#FECB52"
          ],
          "font": {
           "color": "#2a3f5f"
          },
          "geo": {
           "bgcolor": "white",
           "lakecolor": "white",
           "landcolor": "#E5ECF6",
           "showlakes": true,
           "showland": true,
           "subunitcolor": "white"
          },
          "hoverlabel": {
           "align": "left"
          },
          "hovermode": "closest",
          "mapbox": {
           "style": "light"
          },
          "paper_bgcolor": "white",
          "plot_bgcolor": "#E5ECF6",
          "polar": {
           "angularaxis": {
            "gridcolor": "white",
            "linecolor": "white",
            "ticks": ""
           },
           "bgcolor": "#E5ECF6",
           "radialaxis": {
            "gridcolor": "white",
            "linecolor": "white",
            "ticks": ""
           }
          },
          "scene": {
           "xaxis": {
            "backgroundcolor": "#E5ECF6",
            "gridcolor": "white",
            "gridwidth": 2,
            "linecolor": "white",
            "showbackground": true,
            "ticks": "",
            "zerolinecolor": "white"
           },
           "yaxis": {
            "backgroundcolor": "#E5ECF6",
            "gridcolor": "white",
            "gridwidth": 2,
            "linecolor": "white",
            "showbackground": true,
            "ticks": "",
            "zerolinecolor": "white"
           },
           "zaxis": {
            "backgroundcolor": "#E5ECF6",
            "gridcolor": "white",
            "gridwidth": 2,
            "linecolor": "white",
            "showbackground": true,
            "ticks": "",
            "zerolinecolor": "white"
           }
          },
          "shapedefaults": {
           "line": {
            "color": "#2a3f5f"
           }
          },
          "ternary": {
           "aaxis": {
            "gridcolor": "white",
            "linecolor": "white",
            "ticks": ""
           },
           "baxis": {
            "gridcolor": "white",
            "linecolor": "white",
            "ticks": ""
           },
           "bgcolor": "#E5ECF6",
           "caxis": {
            "gridcolor": "white",
            "linecolor": "white",
            "ticks": ""
           }
          },
          "title": {
           "x": 0.05
          },
          "xaxis": {
           "automargin": true,
           "gridcolor": "white",
           "linecolor": "white",
           "ticks": "",
           "title": {
            "standoff": 15
           },
           "zerolinecolor": "white",
           "zerolinewidth": 2
          },
          "yaxis": {
           "automargin": true,
           "gridcolor": "white",
           "linecolor": "white",
           "ticks": "",
           "title": {
            "standoff": 15
           },
           "zerolinecolor": "white",
           "zerolinewidth": 2
          }
         }
        },
        "xaxis": {
         "anchor": "y",
         "domain": [
          0,
          1
         ],
         "title": {
          "text": "x"
         }
        },
        "yaxis": {
         "anchor": "x",
         "domain": [
          0,
          1
         ],
         "title": {
          "text": "y"
         }
        }
       }
      }
     },
     "metadata": {},
     "output_type": "display_data"
    }
   ],
   "source": [
    "grafico_cotovelo_max_min = px.line( x= range(1,11), y=wcss_max_min)\n",
    "grafico_cotovelo_max_min.show()"
   ]
  },
  {
   "cell_type": "code",
   "execution_count": 14,
   "metadata": {},
   "outputs": [],
   "source": [
    "kmeans_max_min = KMeans(n_clusters=2, random_state=0, init='k-means++', n_init='auto')\n",
    "label_cluster_max_min = kmeans_max_min.fit_predict(df[['mean_df', 'rms_df']])"
   ]
  },
  {
   "cell_type": "code",
   "execution_count": 15,
   "metadata": {},
   "outputs": [
    {
     "data": {
      "text/plain": [
       "array([0, 0, 1, 0, 1, 1, 0, 0, 0, 1, 1, 0, 0, 0, 0, 1, 0, 1, 1, 0, 0, 0,\n",
       "       1, 1, 1, 0, 0, 0, 1, 1, 0, 1, 1, 0, 1, 0, 1, 0, 0, 1, 1, 0, 1, 0,\n",
       "       0, 1, 0, 0, 0, 0, 0, 1, 1, 1, 1, 1, 0, 0, 1, 0, 1, 1, 1, 0, 0, 0,\n",
       "       1, 0, 0, 0, 0, 1, 0, 1, 0, 1, 0, 0, 0, 0, 0, 0, 0], dtype=int32)"
      ]
     },
     "execution_count": 15,
     "metadata": {},
     "output_type": "execute_result"
    }
   ],
   "source": [
    "label_cluster_max_min"
   ]
  },
  {
   "cell_type": "code",
   "execution_count": null,
   "metadata": {},
   "outputs": [
    {
     "data": {
      "text/plain": [
       "array([[-0.36082809,  0.64604909],\n",
       "       [ 0.52001695, -0.93107075]])"
      ]
     },
     "execution_count": 16,
     "metadata": {},
     "output_type": "execute_result"
    }
   ],
   "source": [
    "centroides_max_min = kmeans_max_min.cluster_centers_\n",
    "centroides_max_min"
   ]
  },
  {
   "cell_type": "code",
   "execution_count": null,
   "metadata": {},
   "outputs": [
    {
     "data": {
      "text/html": [
       "<div>\n",
       "<style scoped>\n",
       "    .dataframe tbody tr th:only-of-type {\n",
       "        vertical-align: middle;\n",
       "    }\n",
       "\n",
       "    .dataframe tbody tr th {\n",
       "        vertical-align: top;\n",
       "    }\n",
       "\n",
       "    .dataframe thead th {\n",
       "        text-align: right;\n",
       "    }\n",
       "</style>\n",
       "<table border=\"1\" class=\"dataframe\">\n",
       "  <thead>\n",
       "    <tr style=\"text-align: right;\">\n",
       "      <th></th>\n",
       "      <th>rms_df</th>\n",
       "      <th>mean_df</th>\n",
       "      <th>std_df</th>\n",
       "      <th>sk_df</th>\n",
       "      <th>k_df</th>\n",
       "      <th>perc_25</th>\n",
       "      <th>perc_50</th>\n",
       "      <th>perc_75</th>\n",
       "      <th>perc_90</th>\n",
       "      <th>state</th>\n",
       "    </tr>\n",
       "  </thead>\n",
       "  <tbody>\n",
       "    <tr>\n",
       "      <th>0</th>\n",
       "      <td>0.417058</td>\n",
       "      <td>0.517966</td>\n",
       "      <td>0.418374</td>\n",
       "      <td>-0.322653</td>\n",
       "      <td>-0.589962</td>\n",
       "      <td>-0.528029</td>\n",
       "      <td>-0.478654</td>\n",
       "      <td>0.797535</td>\n",
       "      <td>0.551259</td>\n",
       "      <td>0</td>\n",
       "    </tr>\n",
       "    <tr>\n",
       "      <th>1</th>\n",
       "      <td>0.439250</td>\n",
       "      <td>0.334431</td>\n",
       "      <td>0.440916</td>\n",
       "      <td>-0.145237</td>\n",
       "      <td>-0.449691</td>\n",
       "      <td>-0.221357</td>\n",
       "      <td>-0.066563</td>\n",
       "      <td>0.089896</td>\n",
       "      <td>0.621977</td>\n",
       "      <td>0</td>\n",
       "    </tr>\n",
       "    <tr>\n",
       "      <th>2</th>\n",
       "      <td>-0.901749</td>\n",
       "      <td>-0.702113</td>\n",
       "      <td>-0.899180</td>\n",
       "      <td>1.859262</td>\n",
       "      <td>-0.276090</td>\n",
       "      <td>0.110393</td>\n",
       "      <td>-0.190993</td>\n",
       "      <td>-0.525195</td>\n",
       "      <td>-0.580849</td>\n",
       "      <td>1</td>\n",
       "    </tr>\n",
       "    <tr>\n",
       "      <th>3</th>\n",
       "      <td>0.322015</td>\n",
       "      <td>0.484699</td>\n",
       "      <td>0.323531</td>\n",
       "      <td>0.516340</td>\n",
       "      <td>-0.611644</td>\n",
       "      <td>-0.474656</td>\n",
       "      <td>-0.309578</td>\n",
       "      <td>0.412013</td>\n",
       "      <td>0.645476</td>\n",
       "      <td>0</td>\n",
       "    </tr>\n",
       "    <tr>\n",
       "      <th>4</th>\n",
       "      <td>-0.933977</td>\n",
       "      <td>0.299947</td>\n",
       "      <td>-0.930474</td>\n",
       "      <td>1.909491</td>\n",
       "      <td>0.345687</td>\n",
       "      <td>0.704466</td>\n",
       "      <td>0.146809</td>\n",
       "      <td>-0.867310</td>\n",
       "      <td>-0.802742</td>\n",
       "      <td>1</td>\n",
       "    </tr>\n",
       "  </tbody>\n",
       "</table>\n",
       "</div>"
      ],
      "text/plain": [
       "     rms_df   mean_df    std_df     sk_df      k_df   perc_25   perc_50  \\\n",
       "0  0.417058  0.517966  0.418374 -0.322653 -0.589962 -0.528029 -0.478654   \n",
       "1  0.439250  0.334431  0.440916 -0.145237 -0.449691 -0.221357 -0.066563   \n",
       "2 -0.901749 -0.702113 -0.899180  1.859262 -0.276090  0.110393 -0.190993   \n",
       "3  0.322015  0.484699  0.323531  0.516340 -0.611644 -0.474656 -0.309578   \n",
       "4 -0.933977  0.299947 -0.930474  1.909491  0.345687  0.704466  0.146809   \n",
       "\n",
       "    perc_75   perc_90  state  \n",
       "0  0.797535  0.551259      0  \n",
       "1  0.089896  0.621977      0  \n",
       "2 -0.525195 -0.580849      1  \n",
       "3  0.412013  0.645476      0  \n",
       "4 -0.867310 -0.802742      1  "
      ]
     },
     "execution_count": 17,
     "metadata": {},
     "output_type": "execute_result"
    }
   ],
   "source": [
    "df['state'] = label_cluster_max_min\n",
    "df.reset_index(drop = True).head(5)"
   ]
  },
  {
   "cell_type": "code",
   "execution_count": null,
   "metadata": {},
   "outputs": [
    {
     "data": {
      "application/vnd.plotly.v1+json": {
       "config": {
        "plotlyServerURL": "https://plot.ly"
       },
       "data": [
        {
         "hovertemplate": "x=%{x}<br>y=%{y}<br>color=%{marker.color}<extra></extra>",
         "legendgroup": "",
         "marker": {
          "color": {
           "bdata": "AAAAAAAAAAABAAAAAAAAAAEAAAABAAAAAAAAAAAAAAAAAAAAAQAAAAEAAAAAAAAAAAAAAAAAAAAAAAAAAQAAAAAAAAABAAAAAQAAAAAAAAAAAAAAAAAAAAEAAAABAAAAAQAAAAAAAAAAAAAAAAAAAAEAAAABAAAAAAAAAAEAAAABAAAAAAAAAAEAAAAAAAAAAQAAAAAAAAAAAAAAAQAAAAEAAAAAAAAAAQAAAAAAAAAAAAAAAQAAAAAAAAAAAAAAAAAAAAAAAAAAAAAAAQAAAAEAAAABAAAAAQAAAAEAAAAAAAAAAAAAAAEAAAAAAAAAAQAAAAEAAAABAAAAAAAAAAAAAAAAAAAAAQAAAAAAAAAAAAAAAAAAAAAAAAABAAAAAAAAAAEAAAAAAAAAAQAAAAAAAAAAAAAAAAAAAAAAAAAAAAAAAAAAAAAAAAA=",
           "dtype": "i4"
          },
          "coloraxis": "coloraxis",
          "symbol": "circle"
         },
         "mode": "markers",
         "name": "",
         "orientation": "v",
         "showlegend": false,
         "type": "scatter",
         "x": {
          "bdata": "Bzl6HhOx2j8uz7GnrRzcPytOxiMg2+y/ZPmcI+Sb1D90RmZWI+Ptv7LOg5ripdO/Rik2OjSc1j8gizn4Veq7vxlXvd1vbtc/GIaf4hNG7r+bol993TbEP98WjRd0gtQ/gqmf5RMdyT9CnBQRRqjRP10fHIvdYa6/rhI6veRP8b/CZsWL4/vHPy+tRYMLk+G/9R8N6nh1AMCwmY75sGnQvzLcNJ7kb7s/U6EaPqY67D/96EiRIMvAv7FFQJX6POq/73xPFQqYlT8YgcwHaoHxPybjLOdHuvU/g2zUWLWo5z9MiTPPWVvnv+1UPJ/opuO/YUt+J/Gnm79jRCe2ycXev6Un4UXbgey/KrPss/JA4D/dy3pugyHKv+0C5Tx50uM/ObUhJVCO67/fC8PNiouxv7ILEdMH6pU/w0nroVGD/b9LnPmDkyPYvw08AxcxivQ/h2peu/h76r+9CaImR47kP1KxJiCjT+8/Vl+iSgaE+L/B4+CGvYDnP3TB0HbiP+s/0BbLtZWbxT8zW5eLD3OzP4tE2wgsP/I/C4RdDmy/9L89o9ONzJ7Rv8wdAHVhK+C/K7bgMJrnAsArtuAwmucCwEmMskbin+w/TB8nySMA6z/UVxNeoN3pv5f2Ezm1JvA/lXcV+kSs6b8hu3nCUpjvv0rBrHn+rgPAlwCCkueq4T9xXPwBN1L9P+OiEL1sTck/LQNWOBQi/r9dZVgWm2TyPyTO3OiT6/0/PFODSN4w6j874IsH0wLeP3ez+aS9C+S/kYxgmEvA8T/lJ1rRYZrMvwOUH6qQcdA/vOn3Allj8r+yXmiKsw/1P2VZxEL1nd0/GKDfeNPcA0DKIjl71smDP9urS5rrpLo/Wp7+kNxj8z8bZFM9kAv4Pw==",
          "dtype": "f8"
         },
         "xaxis": "x",
         "y": {
          "bdata": "RCZvSC6T4D/iGpSLUWfVP+8kNKu2d+a/75PlFk4F3z+GpmgOVjLTP8PvCjcEX9M/Clo4mapN8L8CFw3yWyjTv9xN8exjN+c/HwUB8aBsAkD6ivPtCln8P9wJYsikQKq/wbsZ4RDH8r8uzYhSMU7PP7KaBXsyk/S/PzYpED5I5j9PhZmNDTnsvw1n27bB2te/cZ7xORuy5L8xO1UBHnDUv+tPkrflxNs/tiqURyv+0D95Cc1cJlnmP3EU8wKPBOo/Nl+2BBT6DEDK4TOhRM7Sv/qQOlc708c/3lznY28A3z85nn7XWs/lP/jG1jbs+84/o2YAXEGz4r8KjmdJjT9yP+hPEA3Slsm/bKh4Irdjyj93hRrYQ9n4P4B7azCaiKy/r2AI9NQU6T+nVVK8zkKtP4+6tEToLeK/0MfOtARd1T8WO7FIEWjiP2Vi2CkRd86/nxVo4gY6678qBKOa6u3Jv/pLnhQuzeC/c/e0OCno9L/ZS/jd+tDdP+KoFkAHx8g/vvNl3yeZD8D/Dq5fdnHHv8TfqN/AI86/7+nXLxrm8z+TC3QtvG7SPznux4ElsOE/57iupJfj9D/nuK6kl+P0P/3i8ZAuOqs/9UufTmQd379w0y3mKAvtv//Vld8xevu//YXmWwVJ07/2taHz+OKmP/UgJVh1kwFAcH1tNOtv8b875nWo89blvyzcZtJu2u6/nbTvz3G/9z8DvwdACQPbP5RSvc9UzuC/sIrgyxak3z+yBnPW/qflv5iU5J0n8cc/xmifWH8xwT9HB2MHX5PHP0mQDl0syMM/hw01QDws4L/4a+TP6BzKvwTZb1XU3q0/c1+YS9Zr9L+V+vWBtyztv+FE1sX2FvC/BlWyH8wf+797UzlbBr7fvw==",
          "dtype": "f8"
         },
         "yaxis": "y"
        },
        {
         "hovertemplate": "x=%{x}<br>y=%{y}<br>size=%{marker.size}<extra></extra>",
         "legendgroup": "",
         "marker": {
          "color": "#636efa",
          "size": {
           "bdata": "Bwc=",
           "dtype": "i1"
          },
          "sizemode": "area",
          "sizeref": 0.0175,
          "symbol": "circle"
         },
         "mode": "markers",
         "name": "",
         "orientation": "v",
         "showlegend": false,
         "type": "scatter",
         "x": {
          "bdata": "yQiCsM4X17/xHMeV+qPgPw==",
          "dtype": "f8"
         },
         "xaxis": "x",
         "y": {
          "bdata": "krOSJW+s5D8UbFPjVMvtvw==",
          "dtype": "f8"
         },
         "yaxis": "y"
        }
       ],
       "layout": {
        "template": {
         "data": {
          "bar": [
           {
            "error_x": {
             "color": "#2a3f5f"
            },
            "error_y": {
             "color": "#2a3f5f"
            },
            "marker": {
             "line": {
              "color": "#E5ECF6",
              "width": 0.5
             },
             "pattern": {
              "fillmode": "overlay",
              "size": 10,
              "solidity": 0.2
             }
            },
            "type": "bar"
           }
          ],
          "barpolar": [
           {
            "marker": {
             "line": {
              "color": "#E5ECF6",
              "width": 0.5
             },
             "pattern": {
              "fillmode": "overlay",
              "size": 10,
              "solidity": 0.2
             }
            },
            "type": "barpolar"
           }
          ],
          "carpet": [
           {
            "aaxis": {
             "endlinecolor": "#2a3f5f",
             "gridcolor": "white",
             "linecolor": "white",
             "minorgridcolor": "white",
             "startlinecolor": "#2a3f5f"
            },
            "baxis": {
             "endlinecolor": "#2a3f5f",
             "gridcolor": "white",
             "linecolor": "white",
             "minorgridcolor": "white",
             "startlinecolor": "#2a3f5f"
            },
            "type": "carpet"
           }
          ],
          "choropleth": [
           {
            "colorbar": {
             "outlinewidth": 0,
             "ticks": ""
            },
            "type": "choropleth"
           }
          ],
          "contour": [
           {
            "colorbar": {
             "outlinewidth": 0,
             "ticks": ""
            },
            "colorscale": [
             [
              0,
              "#0d0887"
             ],
             [
              0.1111111111111111,
              "#46039f"
             ],
             [
              0.2222222222222222,
              "#7201a8"
             ],
             [
              0.3333333333333333,
              "#9c179e"
             ],
             [
              0.4444444444444444,
              "#bd3786"
             ],
             [
              0.5555555555555556,
              "#d8576b"
             ],
             [
              0.6666666666666666,
              "#ed7953"
             ],
             [
              0.7777777777777778,
              "#fb9f3a"
             ],
             [
              0.8888888888888888,
              "#fdca26"
             ],
             [
              1,
              "#f0f921"
             ]
            ],
            "type": "contour"
           }
          ],
          "contourcarpet": [
           {
            "colorbar": {
             "outlinewidth": 0,
             "ticks": ""
            },
            "type": "contourcarpet"
           }
          ],
          "heatmap": [
           {
            "colorbar": {
             "outlinewidth": 0,
             "ticks": ""
            },
            "colorscale": [
             [
              0,
              "#0d0887"
             ],
             [
              0.1111111111111111,
              "#46039f"
             ],
             [
              0.2222222222222222,
              "#7201a8"
             ],
             [
              0.3333333333333333,
              "#9c179e"
             ],
             [
              0.4444444444444444,
              "#bd3786"
             ],
             [
              0.5555555555555556,
              "#d8576b"
             ],
             [
              0.6666666666666666,
              "#ed7953"
             ],
             [
              0.7777777777777778,
              "#fb9f3a"
             ],
             [
              0.8888888888888888,
              "#fdca26"
             ],
             [
              1,
              "#f0f921"
             ]
            ],
            "type": "heatmap"
           }
          ],
          "histogram": [
           {
            "marker": {
             "pattern": {
              "fillmode": "overlay",
              "size": 10,
              "solidity": 0.2
             }
            },
            "type": "histogram"
           }
          ],
          "histogram2d": [
           {
            "colorbar": {
             "outlinewidth": 0,
             "ticks": ""
            },
            "colorscale": [
             [
              0,
              "#0d0887"
             ],
             [
              0.1111111111111111,
              "#46039f"
             ],
             [
              0.2222222222222222,
              "#7201a8"
             ],
             [
              0.3333333333333333,
              "#9c179e"
             ],
             [
              0.4444444444444444,
              "#bd3786"
             ],
             [
              0.5555555555555556,
              "#d8576b"
             ],
             [
              0.6666666666666666,
              "#ed7953"
             ],
             [
              0.7777777777777778,
              "#fb9f3a"
             ],
             [
              0.8888888888888888,
              "#fdca26"
             ],
             [
              1,
              "#f0f921"
             ]
            ],
            "type": "histogram2d"
           }
          ],
          "histogram2dcontour": [
           {
            "colorbar": {
             "outlinewidth": 0,
             "ticks": ""
            },
            "colorscale": [
             [
              0,
              "#0d0887"
             ],
             [
              0.1111111111111111,
              "#46039f"
             ],
             [
              0.2222222222222222,
              "#7201a8"
             ],
             [
              0.3333333333333333,
              "#9c179e"
             ],
             [
              0.4444444444444444,
              "#bd3786"
             ],
             [
              0.5555555555555556,
              "#d8576b"
             ],
             [
              0.6666666666666666,
              "#ed7953"
             ],
             [
              0.7777777777777778,
              "#fb9f3a"
             ],
             [
              0.8888888888888888,
              "#fdca26"
             ],
             [
              1,
              "#f0f921"
             ]
            ],
            "type": "histogram2dcontour"
           }
          ],
          "mesh3d": [
           {
            "colorbar": {
             "outlinewidth": 0,
             "ticks": ""
            },
            "type": "mesh3d"
           }
          ],
          "parcoords": [
           {
            "line": {
             "colorbar": {
              "outlinewidth": 0,
              "ticks": ""
             }
            },
            "type": "parcoords"
           }
          ],
          "pie": [
           {
            "automargin": true,
            "type": "pie"
           }
          ],
          "scatter": [
           {
            "fillpattern": {
             "fillmode": "overlay",
             "size": 10,
             "solidity": 0.2
            },
            "type": "scatter"
           }
          ],
          "scatter3d": [
           {
            "line": {
             "colorbar": {
              "outlinewidth": 0,
              "ticks": ""
             }
            },
            "marker": {
             "colorbar": {
              "outlinewidth": 0,
              "ticks": ""
             }
            },
            "type": "scatter3d"
           }
          ],
          "scattercarpet": [
           {
            "marker": {
             "colorbar": {
              "outlinewidth": 0,
              "ticks": ""
             }
            },
            "type": "scattercarpet"
           }
          ],
          "scattergeo": [
           {
            "marker": {
             "colorbar": {
              "outlinewidth": 0,
              "ticks": ""
             }
            },
            "type": "scattergeo"
           }
          ],
          "scattergl": [
           {
            "marker": {
             "colorbar": {
              "outlinewidth": 0,
              "ticks": ""
             }
            },
            "type": "scattergl"
           }
          ],
          "scattermap": [
           {
            "marker": {
             "colorbar": {
              "outlinewidth": 0,
              "ticks": ""
             }
            },
            "type": "scattermap"
           }
          ],
          "scattermapbox": [
           {
            "marker": {
             "colorbar": {
              "outlinewidth": 0,
              "ticks": ""
             }
            },
            "type": "scattermapbox"
           }
          ],
          "scatterpolar": [
           {
            "marker": {
             "colorbar": {
              "outlinewidth": 0,
              "ticks": ""
             }
            },
            "type": "scatterpolar"
           }
          ],
          "scatterpolargl": [
           {
            "marker": {
             "colorbar": {
              "outlinewidth": 0,
              "ticks": ""
             }
            },
            "type": "scatterpolargl"
           }
          ],
          "scatterternary": [
           {
            "marker": {
             "colorbar": {
              "outlinewidth": 0,
              "ticks": ""
             }
            },
            "type": "scatterternary"
           }
          ],
          "surface": [
           {
            "colorbar": {
             "outlinewidth": 0,
             "ticks": ""
            },
            "colorscale": [
             [
              0,
              "#0d0887"
             ],
             [
              0.1111111111111111,
              "#46039f"
             ],
             [
              0.2222222222222222,
              "#7201a8"
             ],
             [
              0.3333333333333333,
              "#9c179e"
             ],
             [
              0.4444444444444444,
              "#bd3786"
             ],
             [
              0.5555555555555556,
              "#d8576b"
             ],
             [
              0.6666666666666666,
              "#ed7953"
             ],
             [
              0.7777777777777778,
              "#fb9f3a"
             ],
             [
              0.8888888888888888,
              "#fdca26"
             ],
             [
              1,
              "#f0f921"
             ]
            ],
            "type": "surface"
           }
          ],
          "table": [
           {
            "cells": {
             "fill": {
              "color": "#EBF0F8"
             },
             "line": {
              "color": "white"
             }
            },
            "header": {
             "fill": {
              "color": "#C8D4E3"
             },
             "line": {
              "color": "white"
             }
            },
            "type": "table"
           }
          ]
         },
         "layout": {
          "annotationdefaults": {
           "arrowcolor": "#2a3f5f",
           "arrowhead": 0,
           "arrowwidth": 1
          },
          "autotypenumbers": "strict",
          "coloraxis": {
           "colorbar": {
            "outlinewidth": 0,
            "ticks": ""
           }
          },
          "colorscale": {
           "diverging": [
            [
             0,
             "#8e0152"
            ],
            [
             0.1,
             "#c51b7d"
            ],
            [
             0.2,
             "#de77ae"
            ],
            [
             0.3,
             "#f1b6da"
            ],
            [
             0.4,
             "#fde0ef"
            ],
            [
             0.5,
             "#f7f7f7"
            ],
            [
             0.6,
             "#e6f5d0"
            ],
            [
             0.7,
             "#b8e186"
            ],
            [
             0.8,
             "#7fbc41"
            ],
            [
             0.9,
             "#4d9221"
            ],
            [
             1,
             "#276419"
            ]
           ],
           "sequential": [
            [
             0,
             "#0d0887"
            ],
            [
             0.1111111111111111,
             "#46039f"
            ],
            [
             0.2222222222222222,
             "#7201a8"
            ],
            [
             0.3333333333333333,
             "#9c179e"
            ],
            [
             0.4444444444444444,
             "#bd3786"
            ],
            [
             0.5555555555555556,
             "#d8576b"
            ],
            [
             0.6666666666666666,
             "#ed7953"
            ],
            [
             0.7777777777777778,
             "#fb9f3a"
            ],
            [
             0.8888888888888888,
             "#fdca26"
            ],
            [
             1,
             "#f0f921"
            ]
           ],
           "sequentialminus": [
            [
             0,
             "#0d0887"
            ],
            [
             0.1111111111111111,
             "#46039f"
            ],
            [
             0.2222222222222222,
             "#7201a8"
            ],
            [
             0.3333333333333333,
             "#9c179e"
            ],
            [
             0.4444444444444444,
             "#bd3786"
            ],
            [
             0.5555555555555556,
             "#d8576b"
            ],
            [
             0.6666666666666666,
             "#ed7953"
            ],
            [
             0.7777777777777778,
             "#fb9f3a"
            ],
            [
             0.8888888888888888,
             "#fdca26"
            ],
            [
             1,
             "#f0f921"
            ]
           ]
          },
          "colorway": [
           "#636efa",
           "#EF553B",
           "#00cc96",
           "#ab63fa",
           "#FFA15A",
           "#19d3f3",
           "#FF6692",
           "#B6E880",
           "#FF97FF",
           "#FECB52"
          ],
          "font": {
           "color": "#2a3f5f"
          },
          "geo": {
           "bgcolor": "white",
           "lakecolor": "white",
           "landcolor": "#E5ECF6",
           "showlakes": true,
           "showland": true,
           "subunitcolor": "white"
          },
          "hoverlabel": {
           "align": "left"
          },
          "hovermode": "closest",
          "mapbox": {
           "style": "light"
          },
          "paper_bgcolor": "white",
          "plot_bgcolor": "#E5ECF6",
          "polar": {
           "angularaxis": {
            "gridcolor": "white",
            "linecolor": "white",
            "ticks": ""
           },
           "bgcolor": "#E5ECF6",
           "radialaxis": {
            "gridcolor": "white",
            "linecolor": "white",
            "ticks": ""
           }
          },
          "scene": {
           "xaxis": {
            "backgroundcolor": "#E5ECF6",
            "gridcolor": "white",
            "gridwidth": 2,
            "linecolor": "white",
            "showbackground": true,
            "ticks": "",
            "zerolinecolor": "white"
           },
           "yaxis": {
            "backgroundcolor": "#E5ECF6",
            "gridcolor": "white",
            "gridwidth": 2,
            "linecolor": "white",
            "showbackground": true,
            "ticks": "",
            "zerolinecolor": "white"
           },
           "zaxis": {
            "backgroundcolor": "#E5ECF6",
            "gridcolor": "white",
            "gridwidth": 2,
            "linecolor": "white",
            "showbackground": true,
            "ticks": "",
            "zerolinecolor": "white"
           }
          },
          "shapedefaults": {
           "line": {
            "color": "#2a3f5f"
           }
          },
          "ternary": {
           "aaxis": {
            "gridcolor": "white",
            "linecolor": "white",
            "ticks": ""
           },
           "baxis": {
            "gridcolor": "white",
            "linecolor": "white",
            "ticks": ""
           },
           "bgcolor": "#E5ECF6",
           "caxis": {
            "gridcolor": "white",
            "linecolor": "white",
            "ticks": ""
           }
          },
          "title": {
           "x": 0.05
          },
          "xaxis": {
           "automargin": true,
           "gridcolor": "white",
           "linecolor": "white",
           "ticks": "",
           "title": {
            "standoff": 15
           },
           "zerolinecolor": "white",
           "zerolinewidth": 2
          },
          "yaxis": {
           "automargin": true,
           "gridcolor": "white",
           "linecolor": "white",
           "ticks": "",
           "title": {
            "standoff": 15
           },
           "zerolinecolor": "white",
           "zerolinewidth": 2
          }
         }
        },
        "title": {
         "text": "Cluster Analisys"
        },
        "xaxis": {
         "title": {
          "text": "RMS"
         }
        },
        "yaxis": {
         "title": {
          "text": "Mean"
         }
        }
       }
      }
     },
     "metadata": {},
     "output_type": "display_data"
    }
   ],
   "source": [
    "grafico_cluster = px.scatter(x = df['rms_df'], y = df['mean_df'], color= label_cluster_max_min)\n",
    "grafico_centroide = px.scatter(x = centroides_max_min[:,0], y = centroides_max_min[:,1], size = [7,7])\n",
    "grafico_final = go.Figure(data = grafico_cluster.data + grafico_centroide.data)\n",
    "grafico_final.update_layout(title='Cluster Analisys', xaxis_title='RMS', yaxis_title='Mean')\n",
    "grafico_final.show()"
   ]
  },
  {
   "cell_type": "code",
   "execution_count": null,
   "metadata": {},
   "outputs": [
    {
     "data": {
      "text/html": [
       "<div>\n",
       "<style scoped>\n",
       "    .dataframe tbody tr th:only-of-type {\n",
       "        vertical-align: middle;\n",
       "    }\n",
       "\n",
       "    .dataframe tbody tr th {\n",
       "        vertical-align: top;\n",
       "    }\n",
       "\n",
       "    .dataframe thead th {\n",
       "        text-align: right;\n",
       "    }\n",
       "</style>\n",
       "<table border=\"1\" class=\"dataframe\">\n",
       "  <thead>\n",
       "    <tr style=\"text-align: right;\">\n",
       "      <th></th>\n",
       "      <th>rms_df</th>\n",
       "      <th>mean_df</th>\n",
       "      <th>std_df</th>\n",
       "      <th>sk_df</th>\n",
       "      <th>k_df</th>\n",
       "      <th>perc_25</th>\n",
       "      <th>perc_50</th>\n",
       "      <th>perc_75</th>\n",
       "      <th>perc_90</th>\n",
       "      <th>state</th>\n",
       "      <th>name_state</th>\n",
       "    </tr>\n",
       "  </thead>\n",
       "  <tbody>\n",
       "    <tr>\n",
       "      <th>73</th>\n",
       "      <td>-0.223461</td>\n",
       "      <td>0.184185</td>\n",
       "      <td>-0.220720</td>\n",
       "      <td>-0.112431</td>\n",
       "      <td>0.186739</td>\n",
       "      <td>0.365744</td>\n",
       "      <td>0.339227</td>\n",
       "      <td>-0.560576</td>\n",
       "      <td>-0.248641</td>\n",
       "      <td>1</td>\n",
       "      <td>Ok</td>\n",
       "    </tr>\n",
       "    <tr>\n",
       "      <th>74</th>\n",
       "      <td>0.256931</td>\n",
       "      <td>0.154546</td>\n",
       "      <td>0.259073</td>\n",
       "      <td>-0.944091</td>\n",
       "      <td>-0.107456</td>\n",
       "      <td>0.101738</td>\n",
       "      <td>0.062364</td>\n",
       "      <td>-0.234378</td>\n",
       "      <td>0.140323</td>\n",
       "      <td>0</td>\n",
       "      <td>Eminent</td>\n",
       "    </tr>\n",
       "    <tr>\n",
       "      <th>75</th>\n",
       "      <td>-1.149255</td>\n",
       "      <td>-0.505400</td>\n",
       "      <td>-1.145727</td>\n",
       "      <td>0.383283</td>\n",
       "      <td>0.685696</td>\n",
       "      <td>0.864243</td>\n",
       "      <td>0.415257</td>\n",
       "      <td>-1.310499</td>\n",
       "      <td>-1.255566</td>\n",
       "      <td>1</td>\n",
       "      <td>Ok</td>\n",
       "    </tr>\n",
       "    <tr>\n",
       "      <th>76</th>\n",
       "      <td>1.316333</td>\n",
       "      <td>-0.204007</td>\n",
       "      <td>1.317071</td>\n",
       "      <td>-0.592826</td>\n",
       "      <td>-0.813082</td>\n",
       "      <td>-1.245765</td>\n",
       "      <td>-1.086991</td>\n",
       "      <td>1.580443</td>\n",
       "      <td>1.294971</td>\n",
       "      <td>0</td>\n",
       "      <td>Eminent</td>\n",
       "    </tr>\n",
       "    <tr>\n",
       "      <th>77</th>\n",
       "      <td>0.462766</td>\n",
       "      <td>0.058341</td>\n",
       "      <td>0.464688</td>\n",
       "      <td>-0.854207</td>\n",
       "      <td>-0.778629</td>\n",
       "      <td>-0.675090</td>\n",
       "      <td>-0.828174</td>\n",
       "      <td>1.061799</td>\n",
       "      <td>0.613484</td>\n",
       "      <td>0</td>\n",
       "      <td>Eminent</td>\n",
       "    </tr>\n",
       "    <tr>\n",
       "      <th>78</th>\n",
       "      <td>2.482825</td>\n",
       "      <td>-1.276327</td>\n",
       "      <td>2.479605</td>\n",
       "      <td>-1.361724</td>\n",
       "      <td>-1.119617</td>\n",
       "      <td>-2.268717</td>\n",
       "      <td>-1.376640</td>\n",
       "      <td>2.643293</td>\n",
       "      <td>2.074314</td>\n",
       "      <td>0</td>\n",
       "      <td>Eminent</td>\n",
       "    </tr>\n",
       "    <tr>\n",
       "      <th>79</th>\n",
       "      <td>0.009662</td>\n",
       "      <td>-0.911709</td>\n",
       "      <td>0.010423</td>\n",
       "      <td>0.497643</td>\n",
       "      <td>-0.176869</td>\n",
       "      <td>-0.390865</td>\n",
       "      <td>-0.512839</td>\n",
       "      <td>0.006966</td>\n",
       "      <td>-0.173200</td>\n",
       "      <td>0</td>\n",
       "      <td>Eminent</td>\n",
       "    </tr>\n",
       "    <tr>\n",
       "      <th>80</th>\n",
       "      <td>0.104079</td>\n",
       "      <td>-1.005606</td>\n",
       "      <td>0.104336</td>\n",
       "      <td>-0.006158</td>\n",
       "      <td>-0.082084</td>\n",
       "      <td>-0.299058</td>\n",
       "      <td>-0.460468</td>\n",
       "      <td>-0.126118</td>\n",
       "      <td>-0.057194</td>\n",
       "      <td>0</td>\n",
       "      <td>Eminent</td>\n",
       "    </tr>\n",
       "    <tr>\n",
       "      <th>81</th>\n",
       "      <td>1.211880</td>\n",
       "      <td>-1.695263</td>\n",
       "      <td>1.207428</td>\n",
       "      <td>-1.248790</td>\n",
       "      <td>-0.820084</td>\n",
       "      <td>-1.176692</td>\n",
       "      <td>-0.851134</td>\n",
       "      <td>1.078377</td>\n",
       "      <td>0.974053</td>\n",
       "      <td>0</td>\n",
       "      <td>Eminent</td>\n",
       "    </tr>\n",
       "    <tr>\n",
       "      <th>82</th>\n",
       "      <td>1.502823</td>\n",
       "      <td>-0.495973</td>\n",
       "      <td>1.502964</td>\n",
       "      <td>-1.021575</td>\n",
       "      <td>-0.990104</td>\n",
       "      <td>-1.600235</td>\n",
       "      <td>-1.227897</td>\n",
       "      <td>1.912433</td>\n",
       "      <td>1.417599</td>\n",
       "      <td>0</td>\n",
       "      <td>Eminent</td>\n",
       "    </tr>\n",
       "  </tbody>\n",
       "</table>\n",
       "</div>"
      ],
      "text/plain": [
       "      rms_df   mean_df    std_df     sk_df      k_df   perc_25   perc_50  \\\n",
       "73 -0.223461  0.184185 -0.220720 -0.112431  0.186739  0.365744  0.339227   \n",
       "74  0.256931  0.154546  0.259073 -0.944091 -0.107456  0.101738  0.062364   \n",
       "75 -1.149255 -0.505400 -1.145727  0.383283  0.685696  0.864243  0.415257   \n",
       "76  1.316333 -0.204007  1.317071 -0.592826 -0.813082 -1.245765 -1.086991   \n",
       "77  0.462766  0.058341  0.464688 -0.854207 -0.778629 -0.675090 -0.828174   \n",
       "78  2.482825 -1.276327  2.479605 -1.361724 -1.119617 -2.268717 -1.376640   \n",
       "79  0.009662 -0.911709  0.010423  0.497643 -0.176869 -0.390865 -0.512839   \n",
       "80  0.104079 -1.005606  0.104336 -0.006158 -0.082084 -0.299058 -0.460468   \n",
       "81  1.211880 -1.695263  1.207428 -1.248790 -0.820084 -1.176692 -0.851134   \n",
       "82  1.502823 -0.495973  1.502964 -1.021575 -0.990104 -1.600235 -1.227897   \n",
       "\n",
       "     perc_75   perc_90  state name_state  \n",
       "73 -0.560576 -0.248641      1         Ok  \n",
       "74 -0.234378  0.140323      0    Eminent  \n",
       "75 -1.310499 -1.255566      1         Ok  \n",
       "76  1.580443  1.294971      0    Eminent  \n",
       "77  1.061799  0.613484      0    Eminent  \n",
       "78  2.643293  2.074314      0    Eminent  \n",
       "79  0.006966 -0.173200      0    Eminent  \n",
       "80 -0.126118 -0.057194      0    Eminent  \n",
       "81  1.078377  0.974053      0    Eminent  \n",
       "82  1.912433  1.417599      0    Eminent  "
      ]
     },
     "execution_count": 23,
     "metadata": {},
     "output_type": "execute_result"
    }
   ],
   "source": [
    "df['name_state'] = ''\n",
    "df.loc[df.state == 0, 'name_state'] = 'Eminent'\n",
    "df.loc[df.state == 1, 'name_state'] = 'Ok'\n",
    "df.tail(10)"
   ]
  }
 ],
 "metadata": {
  "colab": {
   "collapsed_sections": [],
   "name": "Prática_kmeans.ipynb",
   "provenance": []
  },
  "kernelspec": {
   "display_name": "Python 3",
   "language": "python",
   "name": "python3"
  },
  "language_info": {
   "codemirror_mode": {
    "name": "ipython",
    "version": 3
   },
   "file_extension": ".py",
   "mimetype": "text/x-python",
   "name": "python",
   "nbconvert_exporter": "python",
   "pygments_lexer": "ipython3",
   "version": "3.13.2"
  }
 },
 "nbformat": 4,
 "nbformat_minor": 4
}
